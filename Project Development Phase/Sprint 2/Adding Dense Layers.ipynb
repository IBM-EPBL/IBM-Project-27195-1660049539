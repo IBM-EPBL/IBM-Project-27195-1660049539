{
  "cells": [
    {
      "cell_type": "code",
      "execution_count": 1,
      "metadata": {
        "id": "sxxYGMPwy6_H"
      },
      "outputs": [],
      "source": [
        "import tensorflow as tf\n",
        "from tensorflow.keras import layers,losses\n",
        "from tensorflow.keras.models import Sequential, Model, load_model\n",
        "from tensorflow.keras.layers import Dropout,Input,Flatten,Dense,MaxPooling2D,Conv2D,Convolution2D,Activation\n",
        "from tensorflow.keras.preprocessing.image import ImageDataGenerator\n",
        "from keras import regularizers\n",
        "from keras.layers import BatchNormalization\n",
        "import keras\n",
        "import numpy as np\n",
        "from tensorflow.keras.callbacks import ModelCheckpoint,EarlyStopping, ReduceLROnPlateau"
      ]
    },
    {
      "cell_type": "code",
      "execution_count": 2,
      "metadata": {
        "id": "xAQy5CtEzDGN"
      },
      "outputs": [],
      "source": [
        "model = Sequential()"
      ]
    },
    {
      "cell_type": "code",
      "execution_count": 3,
      "metadata": {
        "id": "R7cIKAFtzFI_"
      },
      "outputs": [],
      "source": [
        "model.add(BatchNormalization(input_shape = (128,128,1)))\n",
        "model.add(Convolution2D(32, (3,3), activation ='relu', input_shape = (128, 128, 1))) \n",
        "model.add(MaxPooling2D(pool_size=2))\n",
        "model.add(Convolution2D(filters=6,kernel_size=4,padding='same',activation='relu'))\n",
        "model.add(MaxPooling2D(pool_size=2))\n",
        "model.add(Convolution2D(filters=128,kernel_size=3,padding='same',activation='relu'))\n",
        "model.add(MaxPooling2D(pool_size=2))\n",
        "model.add(Convolution2D(filters=128,kernel_size=2,padding='same',activation='relu'))\n",
        "model.add(MaxPooling2D(pool_size=2))\n",
        "model.add(Flatten()) "
      ]
    },
    {
      "cell_type": "code",
      "execution_count": 4,
      "metadata": {
        "id": "Y0eewMv4zL1R"
      },
      "outputs": [],
      "source": [
        "model.add(Dense(units=128, activation='relu'))\n",
        "model.add(Dense(units=64, activation='relu'))\n",
        "model.add(Dense(units=32, activation='relu'))\n",
        "#Softmax for more than 2\n",
        "model.add(Dense(units=6, activation='softmax'))"
      ]
    },
    {
      "cell_type": "code",
      "execution_count": 5,
      "metadata": {
        "colab": {
          "base_uri": "https://localhost:8080/"
        },
        "id": "JhkNcRvIzPat",
        "outputId": "0486a388-59fc-4267-91a0-1ce35feaae4c"
      },
      "outputs": [
        {
          "name": "stdout",
          "output_type": "stream",
          "text": [
            "Model: \"sequential\"\n",
            "_________________________________________________________________\n",
            " Layer (type)                Output Shape              Param #   \n",
            "=================================================================\n",
            " batch_normalization (BatchN  (None, 128, 128, 1)      4         \n",
            " ormalization)                                                   \n",
            "                                                                 \n",
            " conv2d (Conv2D)             (None, 126, 126, 32)      320       \n",
            "                                                                 \n",
            " max_pooling2d (MaxPooling2D  (None, 63, 63, 32)       0         \n",
            " )                                                               \n",
            "                                                                 \n",
            " conv2d_1 (Conv2D)           (None, 63, 63, 6)         3078      \n",
            "                                                                 \n",
            " max_pooling2d_1 (MaxPooling  (None, 31, 31, 6)        0         \n",
            " 2D)                                                             \n",
            "                                                                 \n",
            " conv2d_2 (Conv2D)           (None, 31, 31, 128)       7040      \n",
            "                                                                 \n",
            " max_pooling2d_2 (MaxPooling  (None, 15, 15, 128)      0         \n",
            " 2D)                                                             \n",
            "                                                                 \n",
            " conv2d_3 (Conv2D)           (None, 15, 15, 128)       65664     \n",
            "                                                                 \n",
            " max_pooling2d_3 (MaxPooling  (None, 7, 7, 128)        0         \n",
            " 2D)                                                             \n",
            "                                                                 \n",
            " flatten (Flatten)           (None, 6272)              0         \n",
            "                                                                 \n",
            " dense (Dense)               (None, 128)               802944    \n",
            "                                                                 \n",
            " dense_1 (Dense)             (None, 64)                8256      \n",
            "                                                                 \n",
            " dense_2 (Dense)             (None, 32)                2080      \n",
            "                                                                 \n",
            " dense_3 (Dense)             (None, 6)                 198       \n",
            "                                                                 \n",
            "=================================================================\n",
            "Total params: 889,584\n",
            "Trainable params: 889,582\n",
            "Non-trainable params: 2\n",
            "_________________________________________________________________\n"
          ]
        }
      ],
      "source": [
        "model.summary()"
      ]
    }
  ],
  "metadata": {
    "colab": {
      "provenance": []
    },
    "kernelspec": {
      "display_name": "Python 3.9.13 ('base')",
      "language": "python",
      "name": "python3"
    },
    "language_info": {
      "name": "python",
      "version": "3.9.13"
    },
    "vscode": {
      "interpreter": {
        "hash": "886dd8d7d1ca387bc62838a2fcbd9f116575e46ec343fb3001db0c7a1d5ad331"
      }
    }
  },
  "nbformat": 4,
  "nbformat_minor": 0
}
