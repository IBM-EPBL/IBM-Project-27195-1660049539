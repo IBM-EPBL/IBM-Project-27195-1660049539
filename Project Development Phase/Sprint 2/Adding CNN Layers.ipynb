{
  "nbformat": 4,
  "nbformat_minor": 0,
  "metadata": {
    "colab": {
      "provenance": []
    },
    "kernelspec": {
      "name": "python3",
      "display_name": "Python 3"
    },
    "language_info": {
      "name": "python"
    }
  },
  "cells": [
    {
      "cell_type": "code",
      "execution_count": 1,
      "metadata": {
        "id": "aPbI2AKEl7xf"
      },
      "outputs": [],
      "source": [
        "import tensorflow as tf\n",
        "from tensorflow.keras import layers,losses\n",
        "from tensorflow.keras.models import Sequential, Model, load_model\n",
        "from tensorflow.keras.layers import Dropout,Input,Flatten,Dense,MaxPooling2D,Conv2D,Convolution2D,Activation\n",
        "from tensorflow.keras.preprocessing.image import ImageDataGenerator\n",
        "from keras import regularizers\n",
        "from keras.layers import BatchNormalization\n",
        "import keras\n",
        "import numpy as np\n",
        "from tensorflow.keras.callbacks import ModelCheckpoint,EarlyStopping, ReduceLROnPlateau"
      ]
    },
    {
      "cell_type": "code",
      "source": [
        "model = Sequential()"
      ],
      "metadata": {
        "id": "3Gic6h2-vJhU"
      },
      "execution_count": 2,
      "outputs": []
    },
    {
      "cell_type": "code",
      "source": [
        "model.add(BatchNormalization(input_shape = (128,128,1)))\n",
        "model.add(Convolution2D(32, (3,3), activation ='relu', input_shape = (128, 128, 1))) \n",
        "model.add(MaxPooling2D(pool_size=2))\n",
        "model.add(Convolution2D(filters=6,kernel_size=4,padding='same',activation='relu'))\n",
        "model.add(MaxPooling2D(pool_size=2))\n",
        "model.add(Convolution2D(filters=128,kernel_size=3,padding='same',activation='relu'))\n",
        "model.add(MaxPooling2D(pool_size=2))\n",
        "model.add(Convolution2D(filters=128,kernel_size=2,padding='same',activation='relu'))\n",
        "model.add(MaxPooling2D(pool_size=2))\n",
        "model.add(Flatten()) "
      ],
      "metadata": {
        "id": "U7n0rSQfvNXp"
      },
      "execution_count": 3,
      "outputs": []
    }
  ]
}